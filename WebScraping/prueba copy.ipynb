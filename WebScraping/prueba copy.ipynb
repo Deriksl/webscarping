{
 "cells": [
  {
   "cell_type": "code",
   "execution_count": 7,
   "metadata": {},
   "outputs": [],
   "source": [
    "import pandas as pd\n",
    "import requests\n",
    "from bs4 import BeautifulSoup\n",
    "import re"
   ]
  },
  {
   "cell_type": "code",
   "execution_count": 8,
   "metadata": {},
   "outputs": [
    {
     "name": "stdout",
     "output_type": "stream",
     "text": [
      "Conexión exitosa con la página\n",
      "No se encontraron productos\n",
      "No se encontraron precios\n",
      "Empty DataFrame\n",
      "Columns: [Nombre Producto, Precio]\n",
      "Index: []\n"
     ]
    }
   ],
   "source": [
    "url = 'https://listado.mercadolibre.com.pe/carros#D[A:carros]'\n",
    "\n",
    "encabezados = {\n",
    "    \"user-agent\": \"Mozilla/5.0 (X11; Linux x86_64) AppleWebKit/537.36 (KHTML, like Gecko) Ubuntu Chromium/71.0.3578.80 Chrome/71.0.3578.80 Safari/537.36\"\n",
    "}\n",
    "\n",
    "response = requests.get(url, headers=encabezados)\n",
    "content = response.content\n",
    "soup = BeautifulSoup(content, 'html.parser')\n",
    "\n",
    "# Verificar si la conexión es exitosa\n",
    "if response.status_code == 200:\n",
    "    print(\"Conexión exitosa con la página\")\n",
    "else:\n",
    "    print(\"Error al conectar con la página\")\n",
    "\n",
    "# Extraer nombres de productos (en este caso, títulos de los carros)\n",
    "prod = soup.find_all('h2', class_='ui-search-item__title')\n",
    "productos = [i.text for i in prod]\n",
    "\n",
    "# Verificar si se han encontrado productos\n",
    "if productos:\n",
    "    print(f\"Productos encontrados: {len(productos)}\")\n",
    "else:\n",
    "    print(\"No se encontraron productos\")\n",
    "\n",
    "# Extraer precios\n",
    "prec = soup.find_all('span', class_='price-tag-fraction')\n",
    "precios = [i.text for i in prec]\n",
    "\n",
    "# Verificar si se han encontrado precios\n",
    "if precios:\n",
    "    print(f\"Precios encontrados: {len(precios)}\")\n",
    "else:\n",
    "    print(\"No se encontraron precios\")\n",
    "\n",
    "# Crear DataFrame\n",
    "df_total = pd.DataFrame({'Nombre Producto': productos, 'Precio': precios})\n",
    "\n",
    "# Convertir precios a numéricos\n",
    "df_total['Precio'] = df_total['Precio'].apply(lambda x: re.findall(r'\\d+.\\d+|\\d+', x)[0] if re.findall(r'\\d+.\\d+|\\d+', x) else 0)\n",
    "df_total['Precio'] = pd.to_numeric(df_total['Precio'])\n",
    "\n",
    "# Ordenar DataFrame por Precio en orden ascendente\n",
    "df_total = df_total.sort_values('Precio', ascending=True)\n",
    "\n",
    "# Imprimir resultados ordenados\n",
    "print(df_total)"
   ]
  },
  {
   "cell_type": "code",
   "execution_count": null,
   "metadata": {},
   "outputs": [],
   "source": []
  }
 ],
 "metadata": {
  "kernelspec": {
   "display_name": "Python 3",
   "language": "python",
   "name": "python3"
  },
  "language_info": {
   "codemirror_mode": {
    "name": "ipython",
    "version": 3
   },
   "file_extension": ".py",
   "mimetype": "text/x-python",
   "name": "python",
   "nbconvert_exporter": "python",
   "pygments_lexer": "ipython3",
   "version": "3.12.7"
  }
 },
 "nbformat": 4,
 "nbformat_minor": 2
}
