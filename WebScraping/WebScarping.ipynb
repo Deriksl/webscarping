{
 "cells": [
  {
   "cell_type": "code",
   "execution_count": 1,
   "metadata": {},
   "outputs": [
    {
     "name": "stdout",
     "output_type": "stream",
     "text": [
      "C:\\Users\\GADILP50\\AppData\\Local\\Microsoft\\WindowsApps\\PythonSoftwareFoundation.Python.3.12_qbz5n2kfra8p0\\python.exe\n"
     ]
    }
   ],
   "source": [
    "import sys\n",
    "print (sys.executable)"
   ]
  },
  {
   "cell_type": "code",
   "execution_count": 2,
   "metadata": {},
   "outputs": [],
   "source": [
    "import pandas as pd\n",
    "import requests\n",
    "from bs4 import BeautifulSoup"
   ]
  },
  {
   "cell_type": "code",
   "execution_count": 3,
   "metadata": {},
   "outputs": [],
   "source": [
    "url = 'https://listado.mercadolibre.com.pe/celulares#D[A:celulares]'\n",
    "\n",
    "encabezados = {\n",
    "\"user-agent\" : \"Mozilla/5.0 (X11; Linux x86_64) AppleWebKit/537.36 (KHTML, like Gecko) Ubuntu Chromium/71.0.3578.80 Chrome/71.0.3578.80 Safari/537.36\" # Para que no sea un robot y no identifique que es web scraping\n",
    "}\n",
    "response = requests.get(url,headers=encabezados)\n",
    "content = response.content"
   ]
  },
  {
   "cell_type": "code",
   "execution_count": 4,
   "metadata": {},
   "outputs": [],
   "source": [
    "soup = BeautifulSoup(content, 'html.parser')\n",
    "#print(soup.prettify())\n",
    "prod = soup.find_all('h2', class_='ui-search-item__title shops__item-title')\n",
    "productos = list()\n",
    "\n",
    "for i in prod:\n",
    "   productos.append(i.text)"
   ]
  },
  {
   "cell_type": "code",
   "execution_count": 5,
   "metadata": {},
   "outputs": [],
   "source": [
    "prec= soup.find_all('span', class_='price-tag-fraction')\n",
    "precios = list()\n",
    "\n",
    "for i in prec:\n",
    "   precios.append(i.text)"
   ]
  },
  {
   "cell_type": "code",
   "execution_count": 6,
   "metadata": {},
   "outputs": [],
   "source": [
    "prec_ini= soup.find_all('span', class_='price-tag-text-sr-only')\n",
    "prec_inicial = list()\n",
    "\n",
    "for i in prec_ini:\n",
    "    prec_inicial.append(i.text)"
   ]
  },
  {
   "cell_type": "markdown",
   "metadata": {},
   "source": [
    "## Crear listas vacías para almacenar los datos"
   ]
  },
  {
   "cell_type": "code",
   "execution_count": 7,
   "metadata": {},
   "outputs": [],
   "source": [
    "precios_iniciales = []\n",
    "precios_finales = []"
   ]
  },
  {
   "cell_type": "markdown",
   "metadata": {},
   "source": [
    "## Iterar sobre la lista de precios"
   ]
  },
  {
   "cell_type": "code",
   "execution_count": 8,
   "metadata": {},
   "outputs": [],
   "source": [
    "i = 0\n",
    "while i < len(prec_inicial):\n",
    "    precio_actual = prec_inicial[i]\n",
    "    if precio_actual.startswith('Antes'):\n",
    "        precio_inicial = precio_actual.split('Antes: ')[1]\n",
    "        precio_final = prec_inicial[i + 1] if i + 1 < len(prec_inicial) else ''\n",
    "        precios_iniciales.append(precio_inicial)\n",
    "        precios_finales.append(precio_final)\n",
    "        i += 2 # Saltar al siguiente par de elementos\n",
    "    else:\n",
    "        # No hay precio inicial, asignar como 'Sin descuento'\n",
    "        precios_iniciales.append('Sin descuento')\n",
    "        precios_finales.append(precio_actual)\n",
    "        i += 1 # Saltar al siguiente elemento\n",
    "\n",
    "df_total = pd.DataFrame({'Nombre Producto':productos,'Precio inicial':precios_iniciales,\n",
    "'Precio final': precios_finales})"
   ]
  },
  {
   "cell_type": "code",
   "execution_count": 9,
   "metadata": {},
   "outputs": [],
   "source": [
    "import re"
   ]
  },
  {
   "cell_type": "markdown",
   "metadata": {},
   "source": [
    "## Extraer valores numéricos y convertir a decimales"
   ]
  },
  {
   "cell_type": "code",
   "execution_count": 10,
   "metadata": {},
   "outputs": [],
   "source": [
    "df_total['Precio inicial'] = df_total['Precio inicial'].apply(lambda x: re.findall(r'\\d+.\\d+|\\d+', x)[0] if re.findall(r'\\d+.\\d+|\\d+', x) else 0)\n",
    "df_total['Precio final'] = df_total['Precio final'].apply(lambda x: re.findall(r'\\d+.\\d+|\\d+', x)[0] if re.findall(r'\\d+.\\d+|\\d+', x) else 0)"
   ]
  },
  {
   "cell_type": "markdown",
   "metadata": {},
   "source": [
    "## Convertir columnas a tipo numérico"
   ]
  },
  {
   "cell_type": "code",
   "execution_count": 11,
   "metadata": {},
   "outputs": [],
   "source": [
    "\n",
    "df_total['Precio inicial'] = pd.to_numeric(df_total['Precio inicial'])\n",
    "df_total['Precio final'] = pd.to_numeric(df_total['Precio final'])"
   ]
  },
  {
   "cell_type": "markdown",
   "metadata": {},
   "source": [
    "## Ordenar DataFrame por Precio Final en orden ascendente"
   ]
  },
  {
   "cell_type": "code",
   "execution_count": 12,
   "metadata": {},
   "outputs": [],
   "source": [
    "df_total = df_total.sort_values('Precio final', ascending=True)"
   ]
  },
  {
   "cell_type": "code",
   "execution_count": 13,
   "metadata": {},
   "outputs": [
    {
     "name": "stdout",
     "output_type": "stream",
     "text": [
      "Empty DataFrame\n",
      "Columns: [Nombre Producto, Precio inicial, Precio final]\n",
      "Index: []\n"
     ]
    }
   ],
   "source": [
    "print(df_total)"
   ]
  },
  {
   "cell_type": "code",
   "execution_count": null,
   "metadata": {},
   "outputs": [],
   "source": []
  }
 ],
 "metadata": {
  "kernelspec": {
   "display_name": "Python 3",
   "language": "python",
   "name": "python3"
  },
  "language_info": {
   "codemirror_mode": {
    "name": "ipython",
    "version": 3
   },
   "file_extension": ".py",
   "mimetype": "text/x-python",
   "name": "python",
   "nbconvert_exporter": "python",
   "pygments_lexer": "ipython3",
   "version": "3.12.7"
  }
 },
 "nbformat": 4,
 "nbformat_minor": 2
}
