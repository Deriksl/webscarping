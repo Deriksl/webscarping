{
 "cells": [
  {
   "cell_type": "code",
   "execution_count": 97,
   "id": "110c49d3-f4f3-4037-9ea0-672fb29d27ac",
   "metadata": {},
   "outputs": [
    {
     "name": "stdout",
     "output_type": "stream",
     "text": [
      "C:\\Users\\GADILP50\\AppData\\Local\\Microsoft\\WindowsApps\\PythonSoftwareFoundation.Python.3.12_qbz5n2kfra8p0\\python.exe\n"
     ]
    }
   ],
   "source": [
    "import sys\n",
    "print (sys.executable)"
   ]
  },
  {
   "cell_type": "code",
   "execution_count": 109,
   "id": "f796b351-5642-4601-ae6c-ef8396100e26",
   "metadata": {},
   "outputs": [],
   "source": [
    "import pandas as pd\n",
    "import requests\n",
    "from bs4 import BeautifulSoup"
   ]
  },
  {
   "cell_type": "code",
   "execution_count": 110,
   "id": "fe556dbe-b6e6-466e-a236-cd198f20c776",
   "metadata": {},
   "outputs": [],
   "source": [
    "url = 'https://listado.mercadolibre.com.pe/celulares#D[A:celulares]'\n",
    "\n",
    "encabezados = {\n",
    "\"user-agent\" : \"Mozilla/5.0 (X11; Linux x86_64) AppleWebKit/537.36 (KHTML, like Gecko) Ubuntu Chromium/71.0.3578.80 Chrome/71.0.3578.80 Safari/537.36\" # Para que no sea un robot y no identifique que es web scraping\n",
    "}\n",
    "response = requests.get(url,headers=encabezados)\n",
    "content = response.content"
   ]
  },
  {
   "cell_type": "code",
   "execution_count": 111,
   "id": "a3cc32db-a94f-42fb-9ce2-ac360046f4c3",
   "metadata": {},
   "outputs": [],
   "source": [
    "soup = BeautifulSoup(content, 'html.parser')\n",
    "#print(soup.prettify())\n",
    "prod = soup.find_all('h2', class_='ui-search-item__title shops__item-title')\n",
    "productos = list()\n",
    "\n",
    "for i in prod:\n",
    "   productos.append(i.text)"
   ]
  },
  {
   "cell_type": "code",
   "execution_count": 112,
   "id": "fa999ce8-8790-4959-a17b-7587941ebd98",
   "metadata": {},
   "outputs": [],
   "source": [
    "prec= soup.find_all('span', class_='price-tag-fraction')\n",
    "precios = list()\n",
    "\n",
    "for i in prec:\n",
    "   precios.append(i.text)"
   ]
  },
  {
   "cell_type": "code",
   "execution_count": 113,
   "id": "82008b55",
   "metadata": {},
   "outputs": [],
   "source": [
    "prec_ini= soup.find_all('span', class_='price-tag-text-sr-only')\n",
    "prec_inicial = list()\n",
    "\n",
    "for i in prec_ini:\n",
    "    prec_inicial.append(i.text)"
   ]
  },
  {
   "cell_type": "markdown",
   "id": "635802c1-c22d-4f81-9679-dde6ec5e168e",
   "metadata": {},
   "source": [
    "## Crear listas vacías para almacenar los datos"
   ]
  },
  {
   "cell_type": "code",
   "execution_count": 114,
   "id": "8ce9c56a-c575-4343-9529-5e5616249063",
   "metadata": {},
   "outputs": [],
   "source": [
    "precios_iniciales = []\n",
    "precios_finales = []"
   ]
  },
  {
   "cell_type": "markdown",
   "id": "dcff2a0e-e9e4-4bb9-ac6f-96fedf1ca2cc",
   "metadata": {},
   "source": [
    "## Iterar sobre la lista de precios"
   ]
  },
  {
   "cell_type": "code",
   "execution_count": 115,
   "id": "ab176ac3-49f5-4067-8f47-fc6864d2f85e",
   "metadata": {},
   "outputs": [],
   "source": [
    "i = 0\n",
    "while i < len(prec_inicial):\n",
    "    precio_actual = prec_inicial[i]\n",
    "    if precio_actual.startswith('Antes'):\n",
    "        precio_inicial = precio_actual.split('Antes: ')[1]\n",
    "        precio_final = prec_inicial[i + 1] if i + 1 < len(prec_inicial) else ''\n",
    "        precios_iniciales.append(precio_inicial)\n",
    "        precios_finales.append(precio_final)\n",
    "        i += 2 # Saltar al siguiente par de elementos\n",
    "    else:\n",
    "        # No hay precio inicial, asignar como 'Sin descuento'\n",
    "        precios_iniciales.append('Sin descuento')\n",
    "        precios_finales.append(precio_actual)\n",
    "        i += 1 # Saltar al siguiente elemento\n",
    "\n",
    "df_total = pd.DataFrame({'Nombre Producto':productos,'Precio inicial':precios_iniciales,\n",
    "'Precio final': precios_finales})"
   ]
  },
  {
   "cell_type": "code",
   "execution_count": 116,
   "id": "46db7479-a829-45e9-8b9a-dcba2965085a",
   "metadata": {},
   "outputs": [],
   "source": [
    "import re"
   ]
  },
  {
   "cell_type": "markdown",
   "id": "373a8eb1-3a15-429b-a5b7-84568b15738e",
   "metadata": {},
   "source": [
    "## Extraer valores numéricos y convertir a decimales"
   ]
  },
  {
   "cell_type": "code",
   "execution_count": 117,
   "id": "80fe543c-619f-4053-910e-c9b35ff13c06",
   "metadata": {},
   "outputs": [],
   "source": [
    "df_total['Precio inicial'] = df_total['Precio inicial'].apply(lambda x: re.findall(r'\\d+.\\d+|\\d+', x)[0] if re.findall(r'\\d+.\\d+|\\d+', x) else 0)\n",
    "df_total['Precio final'] = df_total['Precio final'].apply(lambda x: re.findall(r'\\d+.\\d+|\\d+', x)[0] if re.findall(r'\\d+.\\d+|\\d+', x) else 0)"
   ]
  },
  {
   "cell_type": "markdown",
   "id": "941535b0-fa5b-4ea0-b41a-167ddadfa80b",
   "metadata": {},
   "source": [
    "## Convertir columnas a tipo numérico"
   ]
  },
  {
   "cell_type": "code",
   "execution_count": 118,
   "id": "57642b4d-f24c-418b-aae1-1a4fdff1b9e2",
   "metadata": {},
   "outputs": [],
   "source": [
    "df_total['Precio inicial'] = pd.to_numeric(df_total['Precio inicial'])\n",
    "df_total['Precio final'] = pd.to_numeric(df_total['Precio final'])"
   ]
  },
  {
   "cell_type": "markdown",
   "id": "32e9ab96-db9c-49a4-a287-663a53b3aa5e",
   "metadata": {},
   "source": [
    "## Ordenar DataFrame por Precio Final en orden ascendente"
   ]
  },
  {
   "cell_type": "code",
   "execution_count": 119,
   "id": "232aec3e-6200-47ec-9a05-85a40909a980",
   "metadata": {},
   "outputs": [],
   "source": [
    "df_total = df_total.sort_values('Precio final', ascending=True)"
   ]
  },
  {
   "cell_type": "code",
   "execution_count": null,
   "id": "880f8e8d-1db0-4a46-8ddd-733c396f3f59",
   "metadata": {},
   "outputs": [],
   "source": []
  },
  {
   "cell_type": "code",
   "execution_count": null,
   "id": "6d885a54-8858-479f-ae75-6b0c92b5d3c9",
   "metadata": {},
   "outputs": [],
   "source": []
  }
 ],
 "metadata": {
  "kernelspec": {
   "display_name": "Python 3",
   "language": "python",
   "name": "python3"
  },
  "language_info": {
   "codemirror_mode": {
    "name": "ipython",
    "version": 3
   },
   "file_extension": ".py",
   "mimetype": "text/x-python",
   "name": "python",
   "nbconvert_exporter": "python",
   "pygments_lexer": "ipython3",
   "version": "3.12.7"
  }
 },
 "nbformat": 4,
 "nbformat_minor": 5
}
